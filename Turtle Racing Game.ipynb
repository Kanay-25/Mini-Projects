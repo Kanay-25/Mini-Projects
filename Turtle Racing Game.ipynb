{
 "cells": [
  {
   "cell_type": "markdown",
   "id": "94a42d4b",
   "metadata": {},
   "source": [
    "# Turtle Racing Game"
   ]
  },
  {
   "cell_type": "code",
   "execution_count": 1,
   "id": "d00ae26e",
   "metadata": {},
   "outputs": [
    {
     "name": "stdout",
     "output_type": "stream",
     "text": [
      "You've lost! The purple turtle is the winner!\n"
     ]
    }
   ],
   "source": [
    "from turtle import Turtle, Screen\n",
    "import random\n",
    "\n",
    "is_race_on = False\n",
    "\n",
    "screen = Screen()\n",
    "screen.setup(width = 500, height = 400)\n",
    "user_bet = screen.textinput(title = \"Make your bet\", prompt = \"Which turtle will win the race? Enter a color : \")\n",
    "colors = [\"red\", \"orange\", \"yellow\", \"green\", \"blue\", \"purple\"]\n",
    "y_position = [-100, -60, -20, 20, 60, 100]\n",
    "all_turtles = []\n",
    "\n",
    "for turtle_index in range(0, 6):\n",
    "    tim = Turtle(shape = \"turtle\")\n",
    "    tim.color(colors[turtle_index])\n",
    "    tim.penup()\n",
    "    tim.goto(x = -230, y = y_position[turtle_index])\n",
    "    all_turtles.append(tim)\n",
    "    \n",
    "if user_bet:\n",
    "    is_race_on = True\n",
    "    \n",
    "while is_race_on:\n",
    "    for turtle in all_turtles:\n",
    "        if turtle.xcor() > 230:\n",
    "            is_race_on = False\n",
    "            winning_color = turtle.pencolor()\n",
    "            if winning_color == user_bet :\n",
    "                print(f\"You've won! The {winning_color} turtle is the winner!\")\n",
    "            else :\n",
    "                print(f\"You've lost! The {winning_color} turtle is the winner!\")\n",
    "            \n",
    "        random_distance = random.randint(0, 10)\n",
    "        turtle.forward(random_distance)\n",
    "\n",
    "screen.exitonclick()"
   ]
  },
  {
   "cell_type": "code",
   "execution_count": null,
   "id": "4d019d63",
   "metadata": {},
   "outputs": [],
   "source": []
  }
 ],
 "metadata": {
  "kernelspec": {
   "display_name": "Python 3 (ipykernel)",
   "language": "python",
   "name": "python3"
  },
  "language_info": {
   "codemirror_mode": {
    "name": "ipython",
    "version": 3
   },
   "file_extension": ".py",
   "mimetype": "text/x-python",
   "name": "python",
   "nbconvert_exporter": "python",
   "pygments_lexer": "ipython3",
   "version": "3.11.7"
  }
 },
 "nbformat": 4,
 "nbformat_minor": 5
}
