{
 "cells": [
  {
   "cell_type": "markdown",
   "id": "4f2a3b34",
   "metadata": {},
   "source": [
    "# U.S. States Game"
   ]
  },
  {
   "cell_type": "code",
   "execution_count": 2,
   "id": "12db5574",
   "metadata": {},
   "outputs": [
    {
     "ename": "TclError",
     "evalue": "can't invoke \"toplevel\" command: application has been destroyed",
     "output_type": "error",
     "traceback": [
      "\u001b[0;31m---------------------------------------------------------------------------\u001b[0m",
      "\u001b[0;31mTclError\u001b[0m                                  Traceback (most recent call last)",
      "Cell \u001b[0;32mIn[2], line 15\u001b[0m\n\u001b[1;32m     12\u001b[0m guessed_states \u001b[38;5;241m=\u001b[39m []\n\u001b[1;32m     14\u001b[0m \u001b[38;5;28;01mwhile\u001b[39;00m \u001b[38;5;28mlen\u001b[39m(guessed_states) \u001b[38;5;241m<\u001b[39m \u001b[38;5;241m50\u001b[39m:\n\u001b[0;32m---> 15\u001b[0m     answer_state \u001b[38;5;241m=\u001b[39m screen\u001b[38;5;241m.\u001b[39mtextinput(title\u001b[38;5;241m=\u001b[39m\u001b[38;5;124mf\u001b[39m\u001b[38;5;124m\"\u001b[39m\u001b[38;5;132;01m{\u001b[39;00m\u001b[38;5;28mlen\u001b[39m(guessed_states)\u001b[38;5;132;01m}\u001b[39;00m\u001b[38;5;124m/50 States Correct\u001b[39m\u001b[38;5;124m\"\u001b[39m, prompt\u001b[38;5;241m=\u001b[39m\u001b[38;5;124m\"\u001b[39m\u001b[38;5;124mWhat\u001b[39m\u001b[38;5;124m'\u001b[39m\u001b[38;5;124ms another state\u001b[39m\u001b[38;5;124m'\u001b[39m\u001b[38;5;124ms name?\u001b[39m\u001b[38;5;124m\"\u001b[39m)\u001b[38;5;241m.\u001b[39mtitle()\n\u001b[1;32m     17\u001b[0m     \u001b[38;5;28;01mif\u001b[39;00m answer_state \u001b[38;5;241m==\u001b[39m \u001b[38;5;124m\"\u001b[39m\u001b[38;5;124mExit\u001b[39m\u001b[38;5;124m\"\u001b[39m:\n\u001b[1;32m     18\u001b[0m         missing_states \u001b[38;5;241m=\u001b[39m [state \u001b[38;5;28;01mfor\u001b[39;00m state \u001b[38;5;129;01min\u001b[39;00m all_states \u001b[38;5;28;01mif\u001b[39;00m state \u001b[38;5;129;01mnot\u001b[39;00m \u001b[38;5;129;01min\u001b[39;00m guessed_states]\n",
      "File \u001b[0;32m~/anaconda3/lib/python3.11/turtle.py:827\u001b[0m, in \u001b[0;36mTurtleScreenBase.textinput\u001b[0;34m(self, title, prompt)\u001b[0m\n\u001b[1;32m    814\u001b[0m \u001b[38;5;28;01mdef\u001b[39;00m \u001b[38;5;21mtextinput\u001b[39m(\u001b[38;5;28mself\u001b[39m, title, prompt):\n\u001b[1;32m    815\u001b[0m \u001b[38;5;250m    \u001b[39m\u001b[38;5;124;03m\"\"\"Pop up a dialog window for input of a string.\u001b[39;00m\n\u001b[1;32m    816\u001b[0m \n\u001b[1;32m    817\u001b[0m \u001b[38;5;124;03m    Arguments: title is the title of the dialog window,\u001b[39;00m\n\u001b[0;32m   (...)\u001b[0m\n\u001b[1;32m    825\u001b[0m \n\u001b[1;32m    826\u001b[0m \u001b[38;5;124;03m    \"\"\"\u001b[39;00m\n\u001b[0;32m--> 827\u001b[0m     \u001b[38;5;28;01mreturn\u001b[39;00m simpledialog\u001b[38;5;241m.\u001b[39maskstring(title, prompt, parent\u001b[38;5;241m=\u001b[39m\u001b[38;5;28mself\u001b[39m\u001b[38;5;241m.\u001b[39mcv)\n",
      "File \u001b[0;32m~/anaconda3/lib/python3.11/tkinter/simpledialog.py:411\u001b[0m, in \u001b[0;36maskstring\u001b[0;34m(title, prompt, **kw)\u001b[0m\n\u001b[1;32m    400\u001b[0m \u001b[38;5;28;01mdef\u001b[39;00m \u001b[38;5;21maskstring\u001b[39m(title, prompt, \u001b[38;5;241m*\u001b[39m\u001b[38;5;241m*\u001b[39mkw):\n\u001b[1;32m    401\u001b[0m \u001b[38;5;250m    \u001b[39m\u001b[38;5;124;03m'''get a string from the user\u001b[39;00m\n\u001b[1;32m    402\u001b[0m \n\u001b[1;32m    403\u001b[0m \u001b[38;5;124;03m    Arguments:\u001b[39;00m\n\u001b[0;32m   (...)\u001b[0m\n\u001b[1;32m    409\u001b[0m \u001b[38;5;124;03m    Return value is a string\u001b[39;00m\n\u001b[1;32m    410\u001b[0m \u001b[38;5;124;03m    '''\u001b[39;00m\n\u001b[0;32m--> 411\u001b[0m     d \u001b[38;5;241m=\u001b[39m _QueryString(title, prompt, \u001b[38;5;241m*\u001b[39m\u001b[38;5;241m*\u001b[39mkw)\n\u001b[1;32m    412\u001b[0m     \u001b[38;5;28;01mreturn\u001b[39;00m d\u001b[38;5;241m.\u001b[39mresult\n",
      "File \u001b[0;32m~/anaconda3/lib/python3.11/tkinter/simpledialog.py:388\u001b[0m, in \u001b[0;36m_QueryString.__init__\u001b[0;34m(self, *args, **kw)\u001b[0m\n\u001b[1;32m    386\u001b[0m \u001b[38;5;28;01melse\u001b[39;00m:\n\u001b[1;32m    387\u001b[0m     \u001b[38;5;28mself\u001b[39m\u001b[38;5;241m.\u001b[39m__show \u001b[38;5;241m=\u001b[39m \u001b[38;5;28;01mNone\u001b[39;00m\n\u001b[0;32m--> 388\u001b[0m _QueryDialog\u001b[38;5;241m.\u001b[39m\u001b[38;5;21m__init__\u001b[39m(\u001b[38;5;28mself\u001b[39m, \u001b[38;5;241m*\u001b[39margs, \u001b[38;5;241m*\u001b[39m\u001b[38;5;241m*\u001b[39mkw)\n",
      "File \u001b[0;32m~/anaconda3/lib/python3.11/tkinter/simpledialog.py:283\u001b[0m, in \u001b[0;36m_QueryDialog.__init__\u001b[0;34m(self, title, prompt, initialvalue, minvalue, maxvalue, parent)\u001b[0m\n\u001b[1;32m    279\u001b[0m \u001b[38;5;28mself\u001b[39m\u001b[38;5;241m.\u001b[39mmaxvalue \u001b[38;5;241m=\u001b[39m maxvalue\n\u001b[1;32m    281\u001b[0m \u001b[38;5;28mself\u001b[39m\u001b[38;5;241m.\u001b[39minitialvalue \u001b[38;5;241m=\u001b[39m initialvalue\n\u001b[0;32m--> 283\u001b[0m Dialog\u001b[38;5;241m.\u001b[39m\u001b[38;5;21m__init__\u001b[39m(\u001b[38;5;28mself\u001b[39m, parent, title)\n",
      "File \u001b[0;32m~/anaconda3/lib/python3.11/tkinter/simpledialog.py:109\u001b[0m, in \u001b[0;36mDialog.__init__\u001b[0;34m(self, parent, title)\u001b[0m\n\u001b[1;32m    106\u001b[0m \u001b[38;5;28;01mif\u001b[39;00m master \u001b[38;5;129;01mis\u001b[39;00m \u001b[38;5;28;01mNone\u001b[39;00m:\n\u001b[1;32m    107\u001b[0m     master \u001b[38;5;241m=\u001b[39m _get_temp_root()\n\u001b[0;32m--> 109\u001b[0m Toplevel\u001b[38;5;241m.\u001b[39m\u001b[38;5;21m__init__\u001b[39m(\u001b[38;5;28mself\u001b[39m, master)\n\u001b[1;32m    111\u001b[0m \u001b[38;5;28mself\u001b[39m\u001b[38;5;241m.\u001b[39mwithdraw() \u001b[38;5;66;03m# remain invisible for now\u001b[39;00m\n\u001b[1;32m    112\u001b[0m \u001b[38;5;66;03m# If the parent is not viewable, don't\u001b[39;00m\n\u001b[1;32m    113\u001b[0m \u001b[38;5;66;03m# make the child transient, or else it\u001b[39;00m\n\u001b[1;32m    114\u001b[0m \u001b[38;5;66;03m# would be opened withdrawn\u001b[39;00m\n",
      "File \u001b[0;32m~/anaconda3/lib/python3.11/tkinter/__init__.py:2677\u001b[0m, in \u001b[0;36mToplevel.__init__\u001b[0;34m(self, master, cnf, **kw)\u001b[0m\n\u001b[1;32m   2675\u001b[0m         extra \u001b[38;5;241m=\u001b[39m extra \u001b[38;5;241m+\u001b[39m (opt, val)\n\u001b[1;32m   2676\u001b[0m         \u001b[38;5;28;01mdel\u001b[39;00m cnf[wmkey]\n\u001b[0;32m-> 2677\u001b[0m BaseWidget\u001b[38;5;241m.\u001b[39m\u001b[38;5;21m__init__\u001b[39m(\u001b[38;5;28mself\u001b[39m, master, \u001b[38;5;124m'\u001b[39m\u001b[38;5;124mtoplevel\u001b[39m\u001b[38;5;124m'\u001b[39m, cnf, {}, extra)\n\u001b[1;32m   2678\u001b[0m root \u001b[38;5;241m=\u001b[39m \u001b[38;5;28mself\u001b[39m\u001b[38;5;241m.\u001b[39m_root()\n\u001b[1;32m   2679\u001b[0m \u001b[38;5;28mself\u001b[39m\u001b[38;5;241m.\u001b[39miconname(root\u001b[38;5;241m.\u001b[39miconname())\n",
      "File \u001b[0;32m~/anaconda3/lib/python3.11/tkinter/__init__.py:2628\u001b[0m, in \u001b[0;36mBaseWidget.__init__\u001b[0;34m(self, master, widgetName, cnf, kw, extra)\u001b[0m\n\u001b[1;32m   2626\u001b[0m \u001b[38;5;28;01mfor\u001b[39;00m k, v \u001b[38;5;129;01min\u001b[39;00m classes:\n\u001b[1;32m   2627\u001b[0m     \u001b[38;5;28;01mdel\u001b[39;00m cnf[k]\n\u001b[0;32m-> 2628\u001b[0m \u001b[38;5;28mself\u001b[39m\u001b[38;5;241m.\u001b[39mtk\u001b[38;5;241m.\u001b[39mcall(\n\u001b[1;32m   2629\u001b[0m     (widgetName, \u001b[38;5;28mself\u001b[39m\u001b[38;5;241m.\u001b[39m_w) \u001b[38;5;241m+\u001b[39m extra \u001b[38;5;241m+\u001b[39m \u001b[38;5;28mself\u001b[39m\u001b[38;5;241m.\u001b[39m_options(cnf))\n\u001b[1;32m   2630\u001b[0m \u001b[38;5;28;01mfor\u001b[39;00m k, v \u001b[38;5;129;01min\u001b[39;00m classes:\n\u001b[1;32m   2631\u001b[0m     k\u001b[38;5;241m.\u001b[39mconfigure(\u001b[38;5;28mself\u001b[39m, v)\n",
      "\u001b[0;31mTclError\u001b[0m: can't invoke \"toplevel\" command: application has been destroyed"
     ]
    }
   ],
   "source": [
    "import pandas\n",
    "import turtle\n",
    "\n",
    "screen = turtle.Screen()\n",
    "screen.title(\"U.S. States Game\")\n",
    "image = \"/home/kanay/Documents/Projects/Mini Projects/U.S States Game/blank_states_img.gif\"\n",
    "screen.addshape(image)\n",
    "turtle.shape(image)\n",
    "\n",
    "data = pandas.read_csv(\"/home/kanay/Documents/Projects/Mini Projects/U.S States Game/50_states.csv\")\n",
    "all_states = data.state.to_list()\n",
    "guessed_states = []\n",
    "\n",
    "while len(guessed_states) < 50:\n",
    "    answer_state = screen.textinput(title=f\"{len(guessed_states)}/50 States Correct\", prompt=\"What's another state's name?\").title()\n",
    "\n",
    "    if answer_state == \"Exit\":\n",
    "        missing_states = [state for state in all_states if state not in guessed_states]\n",
    "        new_data = pandas.DataFrame(missing_states)\n",
    "        new_data.to_csv(\"/home/kanay/Documents/Projects/Mini Projects/U.S States Game/Missed_States.csv\")\n",
    "        break\n",
    "        \n",
    "    if answer_state in all_states:\n",
    "        guessed_states.append(answer_state)\n",
    "        t = turtle.Turtle()\n",
    "        t.hideturtle()\n",
    "        t.penup()\n",
    "        state_data = data[data.state == answer_state]\n",
    "        t.goto(int(state_data.x), int(state_data.y))\n",
    "        t.write(answer_state)\n",
    "\n",
    "screen.exitonclick()"
   ]
  },
  {
   "cell_type": "code",
   "execution_count": null,
   "id": "7b234ff2",
   "metadata": {},
   "outputs": [],
   "source": []
  }
 ],
 "metadata": {
  "kernelspec": {
   "display_name": "Python 3 (ipykernel)",
   "language": "python",
   "name": "python3"
  },
  "language_info": {
   "codemirror_mode": {
    "name": "ipython",
    "version": 3
   },
   "file_extension": ".py",
   "mimetype": "text/x-python",
   "name": "python",
   "nbconvert_exporter": "python",
   "pygments_lexer": "ipython3",
   "version": "3.11.7"
  }
 },
 "nbformat": 4,
 "nbformat_minor": 5
}
