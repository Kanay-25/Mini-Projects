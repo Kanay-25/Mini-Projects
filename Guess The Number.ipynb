{
 "cells": [
  {
   "cell_type": "markdown",
   "id": "1babedac",
   "metadata": {},
   "source": [
    "# Guess The Number"
   ]
  },
  {
   "cell_type": "code",
   "execution_count": 1,
   "id": "ea3ab52c",
   "metadata": {},
   "outputs": [
    {
     "name": "stdout",
     "output_type": "stream",
     "text": [
      "\n",
      "\n",
      "   ___                       _____ _                __                 _               \n",
      "  / _ \\_   _  ___  ___ ___  /__   \\ |__   ___    /\\ \\ \\_   _ _ __ ___ | |__   ___ _ __ \n",
      " / /_\\/ | | |/ _ \\/ __/ __|   / /\\/ '_ \\ / _ \\  /  \\/ / | | | '_ ` _ \\| '_ \\ / _ \\ '__|\n",
      "/ /_\\| |_| |  __/\\__ \\__ \\  / /  | | | |  __/ / /\\  /| |_| | | | | | | |_) |  __/ |   \n",
      "\\____/ \\__,_|\\___||___/___/  \\/   |_| |_|\\___| \\_\\ \\/  \\__,_|_| |_| |_|_.__/ \\___|_|   \n",
      "                                                                                       \n",
      "\n",
      "\n",
      "Welcome to Number Guessing Game!\n",
      "I'm thinking of a number between 1 and 100.\n",
      "Choose a difficulty. Type 'Easy' or 'Hard' : easy\n",
      "\n",
      "You have 10 attempts remaining to guess the number.\n",
      "Make a Guess : 55\n",
      "Too Low\n",
      "\n",
      "You have 9 attempts remaining to guess the number.\n",
      "Make a Guess : 80\n",
      "Too High\n",
      "\n",
      "You have 8 attempts remaining to guess the number.\n",
      "Make a Guess : 70\n",
      "Too High\n",
      "\n",
      "You have 7 attempts remaining to guess the number.\n",
      "Make a Guess : 60\n",
      "You got it! The answer is 60\n"
     ]
    }
   ],
   "source": [
    "print('''\n",
    "\n",
    "   ___                       _____ _                __                 _               \n",
    "  / _ \\_   _  ___  ___ ___  /__   \\ |__   ___    /\\ \\ \\_   _ _ __ ___ | |__   ___ _ __ \n",
    " / /_\\/ | | |/ _ \\/ __/ __|   / /\\/ '_ \\ / _ \\  /  \\/ / | | | '_ ` _ \\| '_ \\ / _ \\ '__|\n",
    "/ /_\\\\| |_| |  __/\\__ \\__ \\  / /  | | | |  __/ / /\\  /| |_| | | | | | | |_) |  __/ |   \n",
    "\\____/ \\__,_|\\___||___/___/  \\/   |_| |_|\\___| \\_\\ \\/  \\__,_|_| |_| |_|_.__/ \\___|_|   \n",
    "                                                                                       \n",
    "\n",
    "''')\n",
    "\n",
    "print(\"Welcome to Number Guessing Game!\")\n",
    "print(\"I'm thinking of a number between 1 and 100.\")\n",
    "\n",
    "import random\n",
    "\n",
    "def guess_checker(num, guess):\n",
    "    if num > guess :\n",
    "        return \"Too Low\"\n",
    "    else :\n",
    "        return \"Too High\"\n",
    "        \n",
    "def results():    \n",
    "    if is_game_over == True :\n",
    "        return f\"You got it! The answer is {guess}\"\n",
    "    else :\n",
    "        return \"You've run out of guesses. You Lose.\"\n",
    "    \n",
    "\n",
    "def game_start(attempts):\n",
    "    num = random.randint(1, 100)\n",
    "    global is_game_over\n",
    "    global guess\n",
    "    \n",
    "    while not is_game_over and attempts > 0:\n",
    "        print(f\"\\nYou have {attempts} attempts remaining to guess the number.\")\n",
    "        guess = int(input(\"Make a Guess : \"))\n",
    "        if guess == num :\n",
    "            is_game_over = True\n",
    "        else :\n",
    "            print(guess_checker(num, guess))\n",
    "        attempts -= 1\n",
    "    return attempts\n",
    "        \n",
    "is_game_over = False\n",
    "difficulty = input(\"Choose a difficulty. Type 'Easy' or 'Hard' : \").lower()\n",
    "\n",
    "if difficulty == 'easy':\n",
    "    game_start(10)\n",
    "    print(results())\n",
    "elif difficulty == 'hard':\n",
    "    attempts = game_start(5)\n",
    "    print(results())\n",
    "else :\n",
    "    print(\"No such difficulty.\")"
   ]
  },
  {
   "cell_type": "code",
   "execution_count": null,
   "id": "8837fab5",
   "metadata": {},
   "outputs": [],
   "source": []
  }
 ],
 "metadata": {
  "kernelspec": {
   "display_name": "Python 3 (ipykernel)",
   "language": "python",
   "name": "python3"
  },
  "language_info": {
   "codemirror_mode": {
    "name": "ipython",
    "version": 3
   },
   "file_extension": ".py",
   "mimetype": "text/x-python",
   "name": "python",
   "nbconvert_exporter": "python",
   "pygments_lexer": "ipython3",
   "version": "3.11.7"
  }
 },
 "nbformat": 4,
 "nbformat_minor": 5
}
