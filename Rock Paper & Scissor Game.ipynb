{
 "cells": [
  {
   "cell_type": "markdown",
   "id": "3c0b301e",
   "metadata": {},
   "source": [
    "# Rock, Paper and Scissor Game"
   ]
  },
  {
   "cell_type": "code",
   "execution_count": 2,
   "id": "ffbf46b3",
   "metadata": {},
   "outputs": [
    {
     "name": "stdout",
     "output_type": "stream",
     "text": [
      "What do you choose? Type 0 for Rock, 1 for Paper or 2 for Scissor.\n",
      "0\n",
      "\n",
      "    _______\n",
      "---'   ____)\n",
      "      (_____)\n",
      "      (_____)\n",
      "      (____)\n",
      "---.__(___)\n",
      "\n",
      "Computer Chose :\n",
      "\n",
      "    _______\n",
      "---'   ____)____\n",
      "          ______)\n",
      "       __________)\n",
      "      (____)\n",
      "---.__(___)\n",
      "\n",
      "You Won\n"
     ]
    }
   ],
   "source": [
    "rock = '''\n",
    "    _______\n",
    "---'   ____)\n",
    "      (_____)\n",
    "      (_____)\n",
    "      (____)\n",
    "---.__(___)\n",
    "'''\n",
    "\n",
    "paper = '''\n",
    "     _______\n",
    "---'    ____)____\n",
    "           ______)\n",
    "          _______)\n",
    "         _______)\n",
    "---.__________)\n",
    "'''\n",
    "\n",
    "scissor = '''\n",
    "    _______\n",
    "---'   ____)____\n",
    "          ______)\n",
    "       __________)\n",
    "      (____)\n",
    "---.__(___)\n",
    "'''\n",
    "\n",
    "choice = [rock, paper, scissor]\n",
    "\n",
    "user_choice = int(input(\"What do you choose? Type 0 for Rock, 1 for Paper or 2 for Scissor.\\n\"))\n",
    "\n",
    "if user_choice >= 0 and user_choice <= 2 :\n",
    "    print(choice[user_choice])\n",
    "\n",
    "    import random\n",
    "\n",
    "    computer_choice = random.randint(0, 2)\n",
    "\n",
    "    print(\"Computer Chose :\")\n",
    "    print(choice[computer_choice])\n",
    "\n",
    "    if user_choice == computer_choice :\n",
    "        print(\"Match Draw\")\n",
    "    elif user_choice == 2 and computer_choice == 1 :\n",
    "        print(\"You Won\")\n",
    "    elif user_choice == 1 and computer_choice == 0 :\n",
    "        print(\"You Won\")\n",
    "    elif user_choice == 0 and computer_choice == 2 :\n",
    "        print(\"You Won\")\n",
    "    else :\n",
    "        print(\"You Lose\")\n",
    "\n",
    "else :\n",
    "    print(\"Invalid number!!!\")"
   ]
  },
  {
   "cell_type": "code",
   "execution_count": null,
   "id": "aef2daec",
   "metadata": {},
   "outputs": [],
   "source": []
  }
 ],
 "metadata": {
  "kernelspec": {
   "display_name": "Python 3 (ipykernel)",
   "language": "python",
   "name": "python3"
  },
  "language_info": {
   "codemirror_mode": {
    "name": "ipython",
    "version": 3
   },
   "file_extension": ".py",
   "mimetype": "text/x-python",
   "name": "python",
   "nbconvert_exporter": "python",
   "pygments_lexer": "ipython3",
   "version": "3.11.7"
  }
 },
 "nbformat": 4,
 "nbformat_minor": 5
}
